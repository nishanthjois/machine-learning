{
  "nbformat": 4,
  "nbformat_minor": 0,
  "metadata": {
    "colab": {
      "name": "Netflix.ipynb",
      "version": "0.3.2",
      "provenance": [],
      "collapsed_sections": []
    },
    "kernelspec": {
      "name": "python3",
      "display_name": "Python 3"
    },
    "accelerator": "GPU"
  },
  "cells": [
    {
      "cell_type": "markdown",
      "metadata": {
        "id": "view-in-github",
        "colab_type": "text"
      },
      "source": [
        "[View in Colaboratory](https://colab.research.google.com/github/nishanthjois/machine-learning/blob/master/Netflix.ipynb)"
      ]
    },
    {
      "metadata": {
        "id": "Qqq3_UUFtnst",
        "colab_type": "code",
        "colab": {}
      },
      "cell_type": "code",
      "source": [
        "# this is just to know how much time will it take to run this entire ipython notebook \n",
        "from datetime import datetime\n",
        "# globalstart = datetime.now()\n",
        "import pandas as pd\n",
        "import numpy as np\n",
        "import matplotlib\n",
        "#matplotlib.use('nbagg')\n",
        "\n",
        "import matplotlib.pyplot as plt\n",
        "plt.rcParams.update({'figure.max_open_warning': 0})\n",
        "\n",
        "import seaborn as sns\n",
        "sns.set_style('whitegrid')\n",
        "import os\n",
        "from scipy import sparse\n",
        "from scipy.sparse import csr_matrix\n",
        "\n",
        "from sklearn.decomposition import TruncatedSVD\n",
        "from sklearn.metrics.pairwise import cosine_similarity\n",
        "import random"
      ],
      "execution_count": 0,
      "outputs": []
    },
    {
      "metadata": {
        "id": "zEP4jV0WzYbx",
        "colab_type": "code",
        "colab": {
          "base_uri": "https://localhost:8080/",
          "height": 106
        },
        "outputId": "2773d364-ed37-4288-fe1f-bbebaa7f4ada"
      },
      "cell_type": "code",
      "source": [
        "!apt-get install -y -qq software-properties-common python-software-properties module-init-tools\n",
        "!add-apt-repository -y ppa:alessandro-strada/ppa 2>&1 > /dev/null\n",
        "!apt-get update -qq 2>&1 > /dev/null\n",
        "!apt-get -y install -qq google-drive-ocamlfuse fuse\n",
        "from google.colab import auth\n",
        "auth.authenticate_user()\n",
        "from oauth2client.client import GoogleCredentials\n",
        "creds = GoogleCredentials.get_application_default()\n",
        "import getpass\n",
        "!google-drive-ocamlfuse -headless -id={creds.client_id} -secret={creds.client_secret} < /dev/null 2>&1 | grep URL\n",
        "vcode = getpass.getpass()\n",
        "!echo {vcode} | google-drive-ocamlfuse -headless -id={creds.client_id} -secret={creds.client_secret}"
      ],
      "execution_count": 0,
      "outputs": [
        {
          "output_type": "stream",
          "text": [
            "Please, open the following URL in a web browser: https://accounts.google.com/o/oauth2/auth?client_id=32555940559.apps.googleusercontent.com&redirect_uri=urn%3Aietf%3Awg%3Aoauth%3A2.0%3Aoob&scope=https%3A%2F%2Fwww.googleapis.com%2Fauth%2Fdrive&response_type=code&access_type=offline&approval_prompt=force\r\n",
            "··········\n",
            "Please, open the following URL in a web browser: https://accounts.google.com/o/oauth2/auth?client_id=32555940559.apps.googleusercontent.com&redirect_uri=urn%3Aietf%3Awg%3Aoauth%3A2.0%3Aoob&scope=https%3A%2F%2Fwww.googleapis.com%2Fauth%2Fdrive&response_type=code&access_type=offline&approval_prompt=force\n",
            "Please enter the verification code: Access token retrieved correctly.\n"
          ],
          "name": "stdout"
        }
      ]
    },
    {
      "metadata": {
        "id": "DAayf8610_TN",
        "colab_type": "code",
        "colab": {}
      },
      "cell_type": "code",
      "source": [
        "!mkdir -p drive\n",
        "!google-drive-ocamlfuse drive\n"
      ],
      "execution_count": 0,
      "outputs": []
    },
    {
      "metadata": {
        "id": "JaOrnrZ61hLO",
        "colab_type": "code",
        "colab": {
          "base_uri": "https://localhost:8080/",
          "height": 34
        },
        "outputId": "bced5c5b-2a67-4e0f-ce48-2402809241d9"
      },
      "cell_type": "code",
      "source": [
        "!ls drive/data"
      ],
      "execution_count": 0,
      "outputs": [
        {
          "output_type": "stream",
          "text": [
            "data_small.csv\ttest1.csv  train1.csv\r\n"
          ],
          "name": "stdout"
        }
      ]
    },
    {
      "metadata": {
        "id": "7dzovg7L1qbx",
        "colab_type": "code",
        "colab": {
          "base_uri": "https://localhost:8080/",
          "height": 104
        },
        "outputId": "511fe6d1-af67-47f9-d3cb-4c8b6078578d"
      },
      "cell_type": "code",
      "source": [
        "\n",
        "# print(\"creating the dataframe from data.csv file..\")\n",
        "# df = pd.read_csv('drive/data/data_small.csv', sep=',', \n",
        "#                        names=['movie', 'user','rating','date'])\n",
        "# df.date = pd.to_datetime(df.date)\n",
        "# print('Done.\\n')\n",
        "\n",
        "# # we are arranging the ratings according to time.\n",
        "# print('Sorting the dataframe by date..')\n",
        "# df.sort_values(by='date', inplace=True)\n",
        "# print('Done..')"
      ],
      "execution_count": 0,
      "outputs": [
        {
          "output_type": "stream",
          "text": [
            "creating the dataframe from data.csv file..\n",
            "Done.\n",
            "\n",
            "Sorting the dataframe by date..\n",
            "Done..\n"
          ],
          "name": "stdout"
        }
      ]
    },
    {
      "metadata": {
        "id": "9M-5aUp72aOR",
        "colab_type": "code",
        "colab": {
          "base_uri": "https://localhost:8080/",
          "height": 294
        },
        "outputId": "bcb5f9bc-9be9-47da-9a8c-5c7a9702d955"
      },
      "cell_type": "code",
      "source": [
        "#df.describe()"
      ],
      "execution_count": 0,
      "outputs": [
        {
          "output_type": "execute_result",
          "data": {
            "text/html": [
              "<div>\n",
              "<style scoped>\n",
              "    .dataframe tbody tr th:only-of-type {\n",
              "        vertical-align: middle;\n",
              "    }\n",
              "\n",
              "    .dataframe tbody tr th {\n",
              "        vertical-align: top;\n",
              "    }\n",
              "\n",
              "    .dataframe thead th {\n",
              "        text-align: right;\n",
              "    }\n",
              "</style>\n",
              "<table border=\"1\" class=\"dataframe\">\n",
              "  <thead>\n",
              "    <tr style=\"text-align: right;\">\n",
              "      <th></th>\n",
              "      <th>movie</th>\n",
              "      <th>user</th>\n",
              "      <th>rating</th>\n",
              "    </tr>\n",
              "  </thead>\n",
              "  <tbody>\n",
              "    <tr>\n",
              "      <th>count</th>\n",
              "      <td>2.405376e+07</td>\n",
              "      <td>2.405376e+07</td>\n",
              "      <td>2.405376e+07</td>\n",
              "    </tr>\n",
              "    <tr>\n",
              "      <th>mean</th>\n",
              "      <td>2.308324e+03</td>\n",
              "      <td>1.322285e+06</td>\n",
              "      <td>3.599634e+00</td>\n",
              "    </tr>\n",
              "    <tr>\n",
              "      <th>std</th>\n",
              "      <td>1.303909e+03</td>\n",
              "      <td>7.645779e+05</td>\n",
              "      <td>1.086118e+00</td>\n",
              "    </tr>\n",
              "    <tr>\n",
              "      <th>min</th>\n",
              "      <td>1.000000e+00</td>\n",
              "      <td>6.000000e+00</td>\n",
              "      <td>1.000000e+00</td>\n",
              "    </tr>\n",
              "    <tr>\n",
              "      <th>25%</th>\n",
              "      <td>1.180000e+03</td>\n",
              "      <td>6.609270e+05</td>\n",
              "      <td>3.000000e+00</td>\n",
              "    </tr>\n",
              "    <tr>\n",
              "      <th>50%</th>\n",
              "      <td>2.342000e+03</td>\n",
              "      <td>1.318602e+06</td>\n",
              "      <td>4.000000e+00</td>\n",
              "    </tr>\n",
              "    <tr>\n",
              "      <th>75%</th>\n",
              "      <td>3.433000e+03</td>\n",
              "      <td>1.984358e+06</td>\n",
              "      <td>4.000000e+00</td>\n",
              "    </tr>\n",
              "    <tr>\n",
              "      <th>max</th>\n",
              "      <td>4.499000e+03</td>\n",
              "      <td>2.649429e+06</td>\n",
              "      <td>5.000000e+00</td>\n",
              "    </tr>\n",
              "  </tbody>\n",
              "</table>\n",
              "</div>"
            ],
            "text/plain": [
              "              movie          user        rating\n",
              "count  2.405376e+07  2.405376e+07  2.405376e+07\n",
              "mean   2.308324e+03  1.322285e+06  3.599634e+00\n",
              "std    1.303909e+03  7.645779e+05  1.086118e+00\n",
              "min    1.000000e+00  6.000000e+00  1.000000e+00\n",
              "25%    1.180000e+03  6.609270e+05  3.000000e+00\n",
              "50%    2.342000e+03  1.318602e+06  4.000000e+00\n",
              "75%    3.433000e+03  1.984358e+06  4.000000e+00\n",
              "max    4.499000e+03  2.649429e+06  5.000000e+00"
            ]
          },
          "metadata": {
            "tags": []
          },
          "execution_count": 13
        }
      ]
    },
    {
      "metadata": {
        "id": "hAYr1z3T2aTq",
        "colab_type": "code",
        "colab": {
          "base_uri": "https://localhost:8080/",
          "height": 34
        },
        "outputId": "b148f752-4838-43b2-84f9-c27d6b1b84fb"
      },
      "cell_type": "code",
      "source": [
        "# # just to make sure that all Nan containing rows are deleted..\n",
        "# print(\"No of Nan values in our dataframe : \", sum(df.isnull().any()))"
      ],
      "execution_count": 0,
      "outputs": [
        {
          "output_type": "stream",
          "text": [
            "No of Nan values in our dataframe :  0\n"
          ],
          "name": "stdout"
        }
      ]
    },
    {
      "metadata": {
        "id": "iPt77C612aWJ",
        "colab_type": "code",
        "colab": {
          "base_uri": "https://localhost:8080/",
          "height": 34
        },
        "outputId": "e2c91b72-71a6-4bb6-cb39-9289e0332149"
      },
      "cell_type": "code",
      "source": [
        "# # Remove duplicates\n",
        "# dup_bool = df.duplicated(['movie','user','rating'])\n",
        "# dups = sum(dup_bool) # by considering all columns..( including timestamp)\n",
        "# print(\"There are {} duplicate rating entries in the data..\".format(dups))"
      ],
      "execution_count": 0,
      "outputs": [
        {
          "output_type": "stream",
          "text": [
            "There are 0 duplicate rating entries in the data..\n"
          ],
          "name": "stdout"
        }
      ]
    },
    {
      "metadata": {
        "id": "AmvgcWjB2aYZ",
        "colab_type": "code",
        "colab": {}
      },
      "cell_type": "code",
      "source": [
        "# # Split train and test data\n",
        "# if not os.path.isfile('train.csv'):\n",
        "#     # create the dataframe and store it in the disk for offline purposes..\n",
        "#     df.iloc[:int(df.shape[0]*0.80)].to_csv(\"train.csv\", index=False)\n",
        "\n",
        "# if not os.path.isfile('test.csv'):\n",
        "#     # create the dataframe and store it in the disk for offline purposes..\n",
        "#     df.iloc[int(df.shape[0]*0.80):].to_csv(\"test.csv\", index=False)\n",
        "\n",
        "# train_df = pd.read_csv(\"train.csv\", parse_dates=['date'])\n",
        "# test_df = pd.read_csv(\"test.csv\")"
      ],
      "execution_count": 0,
      "outputs": []
    },
    {
      "metadata": {
        "id": "oOPrDzyJM0PQ",
        "colab_type": "text"
      },
      "cell_type": "markdown",
      "source": [
        "*** Start from here if you a sample train1.csv and test1.csv palced in drive, else if you have only data.csv then start from top***"
      ]
    },
    {
      "metadata": {
        "id": "Bt7DGtP_5BtP",
        "colab_type": "code",
        "colab": {}
      },
      "cell_type": "code",
      "source": [
        "## Start from here if you a sample train1.csv and test1.csvdrive\n",
        "\n",
        "train_df = pd.read_csv('drive/data/train1.csv')\n",
        "test_df = pd.read_csv('drive/data/test1.csv')\n"
      ],
      "execution_count": 0,
      "outputs": []
    },
    {
      "metadata": {
        "id": "c5WynbsJ5Bwa",
        "colab_type": "code",
        "colab": {
          "base_uri": "https://localhost:8080/",
          "height": 121
        },
        "outputId": "003ab0c4-6ed1-4683-e3b4-c599ce0cf0f6"
      },
      "cell_type": "code",
      "source": [
        "print(\"Training data \")\n",
        "print(\"-\"*50)\n",
        "print(\"\\nTotal no of ratings :\",train_df1.shape[0])\n",
        "print(\"Total No of Users   :\", len(np.unique(train_df.user)))\n",
        "print(\"Total No of movies  :\", len(np.unique(train_df.movie)))"
      ],
      "execution_count": 6,
      "outputs": [
        {
          "output_type": "stream",
          "text": [
            "Training data \n",
            "--------------------------------------------------\n",
            "\n",
            "Total no of ratings : 19243011\n",
            "Total No of Users   : 389223\n",
            "Total No of movies  : 4403\n"
          ],
          "name": "stdout"
        }
      ]
    },
    {
      "metadata": {
        "id": "ee9s4VdO5BzE",
        "colab_type": "code",
        "colab": {
          "base_uri": "https://localhost:8080/",
          "height": 121
        },
        "outputId": "10f38cfb-1c01-4f33-f082-c12b6dd91fff"
      },
      "cell_type": "code",
      "source": [
        "print(\"Test data \")\n",
        "print(\"-\"*50)\n",
        "print(\"\\nTotal no of ratings :\",test_df.shape[0])\n",
        "print(\"Total No of Users   :\", len(np.unique(test_df.user)))\n",
        "print(\"Total No of movies  :\", len(np.unique(test_df.movie)))"
      ],
      "execution_count": 7,
      "outputs": [
        {
          "output_type": "stream",
          "text": [
            "Test data \n",
            "--------------------------------------------------\n",
            "\n",
            "Total no of ratings : 4810753\n",
            "Total No of Users   : 302727\n",
            "Total No of movies  : 4497\n"
          ],
          "name": "stdout"
        }
      ]
    },
    {
      "metadata": {
        "id": "i4cPe61i5B2Q",
        "colab_type": "code",
        "colab": {
          "base_uri": "https://localhost:8080/",
          "height": 202
        },
        "outputId": "0bc9c556-7c38-4248-eabf-92e938ed9125"
      },
      "cell_type": "code",
      "source": [
        "train_df.tail()"
      ],
      "execution_count": 12,
      "outputs": [
        {
          "output_type": "execute_result",
          "data": {
            "text/html": [
              "<div>\n",
              "<style scoped>\n",
              "    .dataframe tbody tr th:only-of-type {\n",
              "        vertical-align: middle;\n",
              "    }\n",
              "\n",
              "    .dataframe tbody tr th {\n",
              "        vertical-align: top;\n",
              "    }\n",
              "\n",
              "    .dataframe thead th {\n",
              "        text-align: right;\n",
              "    }\n",
              "</style>\n",
              "<table border=\"1\" class=\"dataframe\">\n",
              "  <thead>\n",
              "    <tr style=\"text-align: right;\">\n",
              "      <th></th>\n",
              "      <th>movie</th>\n",
              "      <th>user</th>\n",
              "      <th>rating</th>\n",
              "      <th>date</th>\n",
              "    </tr>\n",
              "  </thead>\n",
              "  <tbody>\n",
              "    <tr>\n",
              "      <th>19243006</th>\n",
              "      <td>1221</td>\n",
              "      <td>2162676</td>\n",
              "      <td>1</td>\n",
              "      <td>2005-08-01</td>\n",
              "    </tr>\n",
              "    <tr>\n",
              "      <th>19243007</th>\n",
              "      <td>1221</td>\n",
              "      <td>1637761</td>\n",
              "      <td>2</td>\n",
              "      <td>2005-08-01</td>\n",
              "    </tr>\n",
              "    <tr>\n",
              "      <th>19243008</th>\n",
              "      <td>2955</td>\n",
              "      <td>1082163</td>\n",
              "      <td>4</td>\n",
              "      <td>2005-08-01</td>\n",
              "    </tr>\n",
              "    <tr>\n",
              "      <th>19243009</th>\n",
              "      <td>2032</td>\n",
              "      <td>2457620</td>\n",
              "      <td>3</td>\n",
              "      <td>2005-08-01</td>\n",
              "    </tr>\n",
              "    <tr>\n",
              "      <th>19243010</th>\n",
              "      <td>2032</td>\n",
              "      <td>1687117</td>\n",
              "      <td>2</td>\n",
              "      <td>2005-08-01</td>\n",
              "    </tr>\n",
              "  </tbody>\n",
              "</table>\n",
              "</div>"
            ],
            "text/plain": [
              "          movie     user  rating        date\n",
              "19243006   1221  2162676       1  2005-08-01\n",
              "19243007   1221  1637761       2  2005-08-01\n",
              "19243008   2955  1082163       4  2005-08-01\n",
              "19243009   2032  2457620       3  2005-08-01\n",
              "19243010   2032  1687117       2  2005-08-01"
            ]
          },
          "metadata": {
            "tags": []
          },
          "execution_count": 12
        }
      ]
    },
    {
      "metadata": {
        "id": "SVC6NWf25B5J",
        "colab_type": "code",
        "colab": {}
      },
      "cell_type": "code",
      "source": [
        ""
      ],
      "execution_count": 0,
      "outputs": []
    }
  ]
}